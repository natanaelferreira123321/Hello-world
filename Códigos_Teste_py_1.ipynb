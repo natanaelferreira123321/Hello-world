{
  "nbformat": 4,
  "nbformat_minor": 0,
  "metadata": {
    "colab": {
      "provenance": [],
      "authorship_tag": "ABX9TyOSF0ZnTOQGAPdzE0gOLe08",
      "include_colab_link": true
    },
    "kernelspec": {
      "name": "python3",
      "display_name": "Python 3"
    },
    "language_info": {
      "name": "python"
    }
  },
  "cells": [
    {
      "cell_type": "markdown",
      "metadata": {
        "id": "view-in-github",
        "colab_type": "text"
      },
      "source": [
        "<a href=\"https://colab.research.google.com/github/natanaelferreira123321/Hello-world/blob/main/C%C3%B3digos_Teste_py_1.ipynb\" target=\"_parent\"><img src=\"https://colab.research.google.com/assets/colab-badge.svg\" alt=\"Open In Colab\"/></a>"
      ]
    },
    {
      "cell_type": "code",
      "execution_count": 3,
      "metadata": {
        "colab": {
          "base_uri": "https://localhost:8080/"
        },
        "id": "RrlssK8gjbRh",
        "outputId": "8cacf5b8-c45a-422d-96b4-4ceeba1dc01a"
      },
      "outputs": [
        {
          "output_type": "stream",
          "name": "stdout",
          "text": [
            "1\n",
            "2\n",
            "3\n",
            "4\n",
            "5\n"
          ]
        }
      ],
      "source": [
        "count = 1\n",
        "while count <= 5:\n",
        "    print(count)\n",
        "    count +=1"
      ]
    },
    {
      "cell_type": "code",
      "source": [
        "for n in range (0, 10):\n",
        "  print (n)"
      ],
      "metadata": {
        "colab": {
          "base_uri": "https://localhost:8080/"
        },
        "id": "tReMdL0zkr-S",
        "outputId": "715b96dc-53c1-4ef9-a006-79d9076671fe"
      },
      "execution_count": 7,
      "outputs": [
        {
          "output_type": "stream",
          "name": "stdout",
          "text": [
            "0\n",
            "1\n",
            "2\n",
            "3\n",
            "4\n",
            "5\n",
            "6\n",
            "7\n",
            "8\n",
            "9\n"
          ]
        }
      ]
    },
    {
      "cell_type": "code",
      "source": [
        "idade = 0\n",
        "while idade <= 0:\n",
        "  idade =int(input(\"informe a idade:\"))\n",
        "print(\"a idade informada é:\", idade)"
      ],
      "metadata": {
        "colab": {
          "base_uri": "https://localhost:8080/"
        },
        "id": "YEqGQWgUlh3m",
        "outputId": "9905e0a8-154d-4385-bb71-582b66a59a5a"
      },
      "execution_count": 10,
      "outputs": [
        {
          "output_type": "stream",
          "name": "stdout",
          "text": [
            "informe a idade:0\n",
            "informe a idade:-3\n",
            "informe a idade:5\n",
            "a idade informada é: 5\n"
          ]
        }
      ]
    },
    {
      "cell_type": "code",
      "source": [
        "valor = False\n",
        "while valor == False:\n",
        "  int1 = int(input(\"informe o primeiro valor:\"))\n",
        "  int2 = int(input(\"informe o segundo valor:\"))\n",
        "  if int1>0 and int2>0 and int1<int2:\n",
        "    valor = True\n",
        "for x in range(int1, int2+1):\n",
        " print(x)\n",
        "for int2 in range(int2, int1-1, -1):\n",
        "  print(int2)\n",
        "\n"
      ],
      "metadata": {
        "colab": {
          "base_uri": "https://localhost:8080/"
        },
        "id": "BZd8Un0tlWjD",
        "outputId": "c721b0a1-1c53-400a-cfb8-235a537dad2a"
      },
      "execution_count": 15,
      "outputs": [
        {
          "output_type": "stream",
          "name": "stdout",
          "text": [
            "informe o primeiro valor:5\n",
            "informe o segundo valor:7\n",
            "5\n",
            "6\n",
            "7\n",
            "7\n",
            "6\n",
            "5\n"
          ]
        }
      ]
    },
    {
      "cell_type": "code",
      "source": [
        "tab = int(input(\"informe a tabuada que quer:\"))\n",
        "for b in range(1, 11):\n",
        "  print(b, \"/\", tab, \"=\", tab / b)"
      ],
      "metadata": {
        "colab": {
          "base_uri": "https://localhost:8080/"
        },
        "id": "S2bMebzopbGU",
        "outputId": "78c9ccf5-fcde-4a77-9cfc-51527bc50eda"
      },
      "execution_count": 33,
      "outputs": [
        {
          "output_type": "stream",
          "name": "stdout",
          "text": [
            "informe a tabuada que quer:5\n",
            "1 / 5 = 5.0\n",
            "2 / 5 = 2.5\n",
            "3 / 5 = 1.6666666666666667\n",
            "4 / 5 = 1.25\n",
            "5 / 5 = 1.0\n",
            "6 / 5 = 0.8333333333333334\n",
            "7 / 5 = 0.7142857142857143\n",
            "8 / 5 = 0.625\n",
            "9 / 5 = 0.5555555555555556\n",
            "10 / 5 = 0.5\n"
          ]
        }
      ]
    },
    {
      "cell_type": "code",
      "source": [
        "impressao = True\n",
        "while impressao == True:\n",
        " tab = int(input(\"informe a tabuada que quer:\"))\n",
        " for b in range(1, 11):\n",
        "  print(b, \"x\", tab, \"=\", tab * b)\n",
        " resp = input(\"deseja imptimir uma nova tabuada? informe s para sim e N para nao:\")\n",
        " if resp.upper() == \"N\":\n",
        "  impressao = False"
      ],
      "metadata": {
        "colab": {
          "base_uri": "https://localhost:8080/"
        },
        "id": "d7gwso4UtUx0",
        "outputId": "79f001c8-7111-4ee8-bc82-60cbc154121a"
      },
      "execution_count": 52,
      "outputs": [
        {
          "name": "stdout",
          "output_type": "stream",
          "text": [
            "informe a tabuada que quer:3\n",
            "1 x 3 = 3\n",
            "2 x 3 = 6\n",
            "3 x 3 = 9\n",
            "4 x 3 = 12\n",
            "5 x 3 = 15\n",
            "6 x 3 = 18\n",
            "7 x 3 = 21\n",
            "8 x 3 = 24\n",
            "9 x 3 = 27\n",
            "10 x 3 = 30\n",
            "deseja imptimir uma nova tabuada? informe s para sim e N para nao:N\n"
          ]
        }
      ]
    },
    {
      "cell_type": "code",
      "source": [
        "# prompt: CRIE UM PROGRAMA QUE IMPRIMA OS 10 PRIMEIROS NUMEROS MAIORES QUE 50\n",
        "\n",
        "# Inicializa a variável para controlar a contagem dos números\n",
        "numero_atual = 51\n",
        "\n",
        "# Loop para imprimir os 10 primeiros números maiores que 50\n",
        "for n in range(10):\n",
        "  print(numero_atual)\n",
        "  numero_atual += 1"
      ],
      "metadata": {
        "colab": {
          "base_uri": "https://localhost:8080/"
        },
        "id": "W4xinLMnwAx8",
        "outputId": "f9cc4f64-6c23-4be9-c783-a2145dfe252e"
      },
      "execution_count": 58,
      "outputs": [
        {
          "output_type": "stream",
          "name": "stdout",
          "text": [
            "51\n",
            "52\n",
            "53\n",
            "54\n",
            "55\n",
            "56\n",
            "57\n",
            "58\n",
            "59\n",
            "60\n"
          ]
        }
      ]
    }
  ]
}